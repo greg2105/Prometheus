{
 "cells": [
  {
   "cell_type": "code",
   "execution_count": 142,
   "metadata": {},
   "outputs": [],
   "source": [
    "import requests\n",
    "import mwparserfromhell\n",
    "import csv\n",
    "from bs4 import BeautifulSoup\n",
    "import re\n",
    "import validators"
   ]
  },
  {
   "cell_type": "code",
   "execution_count": 143,
   "metadata": {},
   "outputs": [],
   "source": [
    "def fetch_pages(category_title):\n",
    "    url = \"https://bots.snpedia.com/api.php\"\n",
    "    params = {\n",
    "        \"action\" : \"query\",\n",
    "        \"list\" : \"categorymembers\",\n",
    "        \"cmtitle\" : category_title,\n",
    "        \"cmlimit\" : \"max\",\n",
    "        \"format\" : \"json\",\n",
    "    }\n",
    "\n",
    "    response = requests.get(url, params=params)\n",
    "    data = response.json()\n",
    "\n",
    "    pages = data[\"query\"][\"categorymembers\"]\n",
    "    \n",
    "    return pages"
   ]
  },
  {
   "cell_type": "code",
   "execution_count": 144,
   "metadata": {},
   "outputs": [],
   "source": [
    "def fetch_and_process_page_content(page_title):\n",
    "    content = fetch_page_content_by_title(page_title)\n",
    "    # Process the content here (e.g., extract information, write to file, etc.)\n",
    "    print(f\"Content of page {page_title}: {content}\\n\")"
   ]
  },
  {
   "cell_type": "code",
   "execution_count": 145,
   "metadata": {},
   "outputs": [],
   "source": [
    "def fetch_html(url):\n",
    "    response = requests.get(url)\n",
    "    html_content = response.content.decode(\"utf-8\")\n",
    "    return html_content"
   ]
  },
  {
   "cell_type": "code",
   "execution_count": 146,
   "metadata": {},
   "outputs": [],
   "source": [
    "def write_to_json(content):\n",
    "    with open('C:/Users/Gregorious/VSCode/Prometheus/SNPediaInfo.json', 'w') as f:\n",
    "        json.dump(content, f)"
   ]
  },
  {
   "cell_type": "code",
   "execution_count": 147,
   "metadata": {},
   "outputs": [],
   "source": [
    "def extract_rs_text(html):\n",
    "    soup = BeautifulSoup(html, \"html.parser\")\n",
    "    rs_text = None\n",
    "    text_tags = soup.find_all([\"p\", \"h1\", \"h2\", \"h3\", \"h4\", \"h5\", \"h6\"])\n",
    "    for tag in text_tags:\n",
    "        text = tag.get_text().strip()\n",
    "        if text.startswith(\"rs\"):\n",
    "            rs_text = text\n",
    "            break\n",
    "    return rs_text"
   ]
  },
  {
   "cell_type": "code",
   "execution_count": null,
   "metadata": {},
   "outputs": [],
   "source": [
    "def visit_rs_link(url):\n",
    "    # Visit the URL and fetch the HTML content\n",
    "    response = requests.get(url)\n",
    "    html = response.content\n",
    "    soup = BeautifulSoup(html, \"html.parser\")\n",
    "\n",
    "    # Process the content of the fetched webpage as needed\n",
    "    # For example, you can print the page title\n",
    "    page_title = soup.title.string\n",
    "    \n",
    "    #Looking for the body text of the page\n",
    "    content_div = soup.find('div', {'id': 'mw-content-text'})\n",
    "\n",
    "    if content_div:\n",
    "        # Using a lambda function to find the parent or ancestor div with the 'mw-content-ltr' class\n",
    "        parent_div = content_div.find_parent(lambda element: element and 'mw-content-ltr' in element.get('class', []))\n",
    "\n",
    "        # Fallback to using the 'mw-content-text' div directly if the parent with the desired class is not found\n",
    "        target_div = parent_div if parent_div else content_div\n",
    "\n",
    "        # Extracting only the text within the <p> tags\n",
    "        paragraphs = target_div.find_all('p')\n",
    "        text = ' '.join(p.get_text(separator=' ', strip=True) for p in paragraphs)\n",
    "\n",
    "        print(text)\n",
    "    else:\n",
    "        print(\"Content div not found.\")\n",
    "\n",
    "\n",
    "    #Looking for the table elements on the page\n",
    "    table = soup.find('table', {'class': ['sortable', 'smwtable', 'jquery-tablesorter']})\n",
    "    if table:\n",
    "        # Extracting headers\n",
    "        headers = []\n",
    "        for th in table.find_all('th'):\n",
    "            headers.append(th.text.strip())\n",
    "\n",
    "        # Extracting rows\n",
    "        rows = []\n",
    "        for tr in table.find_all('tr')[1:]:  # Skipping the header row\n",
    "            row = []\n",
    "            for td in tr.find_all('td'):\n",
    "                row.append(td.text.strip())\n",
    "            rows.append(row)\n",
    "\n",
    "        print(\"Headers:\", headers)\n",
    "        print(\"Rows:\", rows)\n",
    "\n",
    "pages = fetch_pages(\"Category:Is_a_snp\")\n",
    "page_titles = [page[\"title\"] for page in pages]\n",
    "\n",
    "for title in page_titles:\n",
    "    # Construct the URL for the page title\n",
    "    url = f\"https://www.snpedia.com/index.php/{title.replace(' ', '_')}\"\n",
    "\n",
    "    # Fetch the rs link for the page\n",
    "    rs_link = fetch_rs_link(url)\n",
    "\n",
    "    # Visit the fetched link only if it's a valid URL\n",
    "    if rs_link.startswith(\"http\"):\n",
    "        visit_rs_link(rs_link)"
   ]
  },
  {
   "cell_type": "code",
   "execution_count": null,
   "metadata": {},
   "outputs": [],
   "source": [
    "def fetch_rs_link(url):\n",
    "    # Fetch the HTML content of the webpage\n",
    "    response = requests.get(url)\n",
    "    html = response.content\n",
    "    soup = BeautifulSoup(html, \"html.parser\")\n",
    "\n",
    "    # Find the first link that contains \"/index.php/Rs\"\n",
    "    rs_link = soup.find(\"a\", href=re.compile(\"/index.php/Rs\"))\n",
    "\n",
    "    # If no link is found, return an error message\n",
    "    if rs_link is None:\n",
    "        return \"No rs link found on the page\"\n",
    "\n",
    "    # Construct the full URL from the base URL and the relative link\n",
    "    base_url = \"https://www.snpedia.com\"\n",
    "    full_url = base_url + rs_link[\"href\"]\n",
    "\n",
    "    return full_url\n",
    "\n",
    "pages = fetch_pages(\"Category:Is_a_snp\")\n",
    "page_titles = [page[\"title\"] for page in pages]\n",
    "\n",
    "for title in page_titles:\n",
    "    # Construct the URL for the page title\n",
    "    url = f\"https://www.snpedia.com/index.php/{title.replace(' ', '_')}\"\n",
    "\n",
    "    # Fetch the rs link for the page\n",
    "    rs_link = fetch_rs_link(url)\n",
    "\n",
    "    # Print the result\n",
    "    print(f\"{title}: {rs_link}\")"
   ]
  }
 ],
 "metadata": {
  "kernelspec": {
   "display_name": "Python 3",
   "language": "python",
   "name": "python3"
  },
  "language_info": {
   "codemirror_mode": {
    "name": "ipython",
    "version": 3
   },
   "file_extension": ".py",
   "mimetype": "text/x-python",
   "name": "python",
   "nbconvert_exporter": "python",
   "pygments_lexer": "ipython3",
   "version": "3.10.6"
  },
  "orig_nbformat": 4,
  "vscode": {
   "interpreter": {
    "hash": "d2176bf98be3a66c28e2b27c8e95971cd2cdfaca781db357c27402ef68b3aee8"
   }
  }
 },
 "nbformat": 4,
 "nbformat_minor": 2
}
