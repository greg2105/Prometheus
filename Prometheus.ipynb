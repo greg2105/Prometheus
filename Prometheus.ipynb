{
 "cells": [
  {
   "cell_type": "code",
   "execution_count": 13,
   "metadata": {},
   "outputs": [],
   "source": [
    "import requests\n",
    "import mwparserfromhell\n",
    "import csv\n",
    "from bs4 import BeautifulSoup"
   ]
  },
  {
   "cell_type": "code",
   "execution_count": 14,
   "metadata": {},
   "outputs": [],
   "source": [
    "def fetch_pages(category_title):\n",
    "    url = \"https://bots.snpedia.com/api.php\"\n",
    "    params = {\n",
    "        \"action\" : \"query\",\n",
    "        \"list\" : \"categorymembers\",\n",
    "        \"cmtitle\" : category_title,\n",
    "        \"cmlimit\" : \"max\",\n",
    "        \"format\" : \"json\",\n",
    "    }\n",
    "\n",
    "    response = requests.get(url, params=params)\n",
    "    data = response.json()\n",
    "\n",
    "    pages = data[\"query\"][\"categorymembers\"]\n",
    "\n",
    "    return pages"
   ]
  },
  {
   "cell_type": "code",
   "execution_count": 15,
   "metadata": {},
   "outputs": [],
   "source": [
    "def fetch_page_content_by_title(page_title):\n",
    "    url = \"https://bots.snpedia.com/api.php\"\n",
    "    params = {\n",
    "        \"action\": \"query\",\n",
    "        \"titles\": page_title,\n",
    "        \"prop\": \"revisions\",\n",
    "        \"rvprop\": \"content\",\n",
    "        \"format\": \"json\",\n",
    "    }\n",
    "\n",
    "    response = requests.get(url, params=params)\n",
    "    data = response.json()\n",
    "\n",
    "    # Get the first page ID from the response\n",
    "    page_id = list(data[\"query\"][\"pages\"].keys())[0]\n",
    "\n",
    "    try:\n",
    "        content = data[\"query\"][\"pages\"][page_id][\"revisions\"][0][\"*\"]\n",
    "    except KeyError:\n",
    "        content = \"Content not found\"\n",
    "\n",
    "    return content"
   ]
  },
  {
   "cell_type": "code",
   "execution_count": 16,
   "metadata": {},
   "outputs": [],
   "source": [
    "def follow_links(wikitext):\n",
    "    # Parse the wikitext using mwparserfromhell\n",
    "    wikicode = mwparserfromhell.parse(wikitext)\n",
    "    \n",
    "    # Find all internal links\n",
    "    links = wikicode.filter_wikilinks()\n",
    "\n",
    "    for link in links:\n",
    "        # Check if the link starts with \"/index.php/\"\n",
    "        if str(link).startswith(\"[[/index.php/\"):\n",
    "            # Extract the page title from the link\n",
    "            page_title = str(link)[12:-1]\n",
    "\n",
    "            # Fetch the content of the linked page\n",
    "            print(f\"Fetching content for: {page_title}\")\n",
    "            content = fetch_page_content_by_title(page_title)\n",
    "            print(f\"Content: {content}\\n\")"
   ]
  }
 ],
 "metadata": {
  "kernelspec": {
   "display_name": "Python 3",
   "language": "python",
   "name": "python3"
  },
  "language_info": {
   "codemirror_mode": {
    "name": "ipython",
    "version": 3
   },
   "file_extension": ".py",
   "mimetype": "text/x-python",
   "name": "python",
   "nbconvert_exporter": "python",
   "pygments_lexer": "ipython3",
   "version": "3.10.6"
  },
  "orig_nbformat": 4,
  "vscode": {
   "interpreter": {
    "hash": "d2176bf98be3a66c28e2b27c8e95971cd2cdfaca781db357c27402ef68b3aee8"
   }
  }
 },
 "nbformat": 4,
 "nbformat_minor": 2
}
