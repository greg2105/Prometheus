{
 "cells": [
  {
   "cell_type": "code",
   "execution_count": 2,
   "metadata": {},
   "outputs": [],
   "source": [
    "import requests"
   ]
  },
  {
   "cell_type": "code",
   "execution_count": 3,
   "metadata": {},
   "outputs": [],
   "source": [
    "def fetch_pages(category_title):\n",
    "    url = \"https://bots.snpedia.com/api.php\"\n",
    "    params = {\n",
    "        \"action\" : \"query\",\n",
    "        \"list\" : \"categorymembers\",\n",
    "        \"cmtitle\" : category_title,\n",
    "        \"cmlimit\" : \"max\",\n",
    "        \"format\" : \"json\",\n",
    "    }\n",
    "\n",
    "    response = requests.get(url, params=params)\n",
    "    data = response.json()\n",
    "\n",
    "    pages = data[\"query\"][\"categorymembers\"]\n",
    "\n",
    "    return pages"
   ]
  },
  {
   "cell_type": "code",
   "execution_count": null,
   "metadata": {},
   "outputs": [],
   "source": [
    "def fetch_page_content(page_id):\n",
    "    url = \"https://bots.snpedia.com/api.php\"\n",
    "    params = {\n",
    "        \"action\" : \"query\",\n",
    "        \"prop\" : \"extracts\",\n",
    "        \"pageids\" : pageid,\n",
    "        \"format\" : \"json\",\n",
    "    }\n",
    "\n",
    "    response = requests.get(url, params=params)\n",
    "    data = response.json()\n",
    "\n",
    "    content = data[\"query\"][\"pages\"][str(page_id)][\"extract\"]\n",
    "\n",
    "    return content\n",
    "\n",
    "yayayaya"
   ]
  }
 ],
 "metadata": {
  "kernelspec": {
   "display_name": "Python 3",
   "language": "python",
   "name": "python3"
  },
  "language_info": {
   "codemirror_mode": {
    "name": "ipython",
    "version": 3
   },
   "file_extension": ".py",
   "mimetype": "text/x-python",
   "name": "python",
   "nbconvert_exporter": "python",
   "pygments_lexer": "ipython3",
   "version": "3.10.6"
  },
  "orig_nbformat": 4,
  "vscode": {
   "interpreter": {
    "hash": "d2176bf98be3a66c28e2b27c8e95971cd2cdfaca781db357c27402ef68b3aee8"
   }
  }
 },
 "nbformat": 4,
 "nbformat_minor": 2
}
